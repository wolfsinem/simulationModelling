{
 "cells": [
  {
   "cell_type": "markdown",
   "metadata": {},
   "source": [
    "# Hoge-orde | Euler | Heun\n",
    "- Gebruik zowel forward Euler-integratie als Heun-integratie om de vergelijking u' (t) = u(t) (met beginconditie u(0) = 1) op te lossen. \n",
    "- Maak plots van de twee benaderingen tussen t = 0 en t = 1  en laat het verschil in nauwkeurigheid van de twee methoden zien. \n",
    "\n",
    "- Varieer het aantal stappen n tussen t = 0 en t = 1. Laat voor n = 5,10,20 en 100 zien wat de benadering is van u(1) = e.\n"
   ]
  },
  {
   "cell_type": "code",
   "execution_count": 87,
   "metadata": {},
   "outputs": [],
   "source": [
    "import math\n",
    "import matplotlib.pyplot as plt \n",
    "import numpy"
   ]
  },
  {
   "cell_type": "code",
   "execution_count": 88,
   "metadata": {},
   "outputs": [],
   "source": [
    "h_array = []\n",
    "euler_error_array = []\n",
    "heuns_error_array = []"
   ]
  },
  {
   "cell_type": "code",
   "execution_count": 92,
   "metadata": {},
   "outputs": [],
   "source": [
    "def heuns_method(num_steps):\n",
    "    ###Original Euler Method\n",
    "    h = 0.01\n",
    "\n",
    "    x = numpy.zeros([num_steps + 1, 2]) # m\n",
    "    v = numpy.zeros([num_steps + 1, 2]) # m / s\n",
    "\n",
    "    x[0, 0] = 0 \n",
    "    v[0, 1] = 1\n",
    "\n",
    "    for step in range(num_steps):\n",
    "        x[step + 1] = x[step] + h * v[step]\n",
    "        v[step + 1] = v[step] + h * x[step]\n",
    "\n",
    "    error = numpy.linalg.norm(x[-1] - x[0])\n",
    "    h_array.append(h)\n",
    "    euler_error_array.append(error)\n",
    "    ###End Original Euler Method\n",
    "\n",
    "    ###Heun's Method\n",
    "    for step in range(num_steps):\n",
    "        xE = x[step] + h * v[step]\n",
    "        vE = v[step] + h \n",
    "        x[step + 1] = x[step] + h * 0.5 * (v[step] + vE)\n",
    "        v[step + 1] = v[step] + h * 0.5\n",
    "\n",
    "    error = numpy.linalg.norm(x[-1] - x[0])\n",
    "    heuns_error_array.append(error)\n",
    "\n",
    "    ###End Heun's Method\n",
    "\n",
    "    return x, v, error\n",
    "\n",
    "for num_steps in [50, 100, 200, 500, 1000]:\n",
    "    x, v, error = heuns_method(num_steps) #Check x, v, error"
   ]
  },
  {
   "cell_type": "code",
   "execution_count": 93,
   "metadata": {},
   "outputs": [
    {
     "data": {
      "image/png": "[encoded data removed]",
      "text/plain": [
       "<Figure size 432x288 with 1 Axes>"
      ]
     },
     "metadata": {
      "needs_background": "light"
     },
     "output_type": "display_data"
    }
   ],
   "source": [
    "def plot_me():\n",
    "    plt.scatter(h_array, euler_error_array, c = 'g')\n",
    "    plt.scatter(h_array, heuns_error_array, c = 'b')\n",
    "    plt.xlim(xmin = 0.)\n",
    "    plt.ylim(ymin = 0.)\n",
    "    axes = plt.gca()\n",
    "    axes.set_xlabel('Step size in s')\n",
    "    axes.set_ylabel('Error in m')\n",
    "    \n",
    "plot_me()"
   ]
  }
 ],
 "metadata": {
  "kernelspec": {
   "display_name": "Python 2",
   "language": "python",
   "name": "python2"
  },
  "language_info": {
   "codemirror_mode": {
    "name": "ipython",
    "version": 2
   },
   "file_extension": ".py",
   "mimetype": "text/x-python",
   "name": "python",
   "nbconvert_exporter": "python",
   "pygments_lexer": "ipython2",
   "version": "2.7.15"
  }
 },
 "nbformat": 4,
 "nbformat_minor": 2
}
