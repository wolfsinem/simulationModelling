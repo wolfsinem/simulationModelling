{
 "cells": [
  {
   "cell_type": "markdown",
   "metadata": {},
   "source": [
    "# Hoge-orge benedering van Euler en Heun"
   ]
  },
  {
   "cell_type": "code",
   "execution_count": null,
   "metadata": {},
   "outputs": [],
   "source": [
    "import math\n",
    "import numpy as np\n",
    "import matplotlib.pyplot as plt"
   ]
  },
  {
   "cell_type": "markdown",
   "metadata": {},
   "source": [
    "### Euler"
   ]
  },
  {
   "cell_type": "code",
   "execution_count": null,
   "metadata": {},
   "outputs": [],
   "source": [
    "def euler_method(num_steps):\n",
    "    h = 0.01\n",
    "    x = np.zeros(num_steps+1)\n",
    "    y = np.zeros(num_steps+1)\n",
    "\n",
    "    x[0] = 0\n",
    "    y[0] = 1\n",
    "\n",
    "    for step in range(num_steps):\n",
    "        x[step+1] = x[step] + h \n",
    "        y[step+1] = y[step] + h * x[step]\n",
    "    return x, y"
   ]
  },
  {
   "cell_type": "code",
   "execution_count": null,
   "metadata": {},
   "outputs": [],
   "source": [
    "def plot_me():\n",
    "    for n in [5,10,20,100]:\n",
    "        x,y = euler_method(n)\n",
    "        plt.plot(x,y,'r')\n",
    "        plt.show()\n",
    "plot_me()"
   ]
  },
  {
   "cell_type": "markdown",
   "metadata": {},
   "source": [
    "### Heun"
   ]
  },
  {
   "cell_type": "code",
   "execution_count": null,
   "metadata": {},
   "outputs": [],
   "source": [
    "def heun_method(num_steps):\n",
    "    h = 0.01\n",
    "    x = np.zeros(num_steps+1)\n",
    "    y = np.zeros(num_steps+1)\n",
    "\n",
    "    x[0] = 0\n",
    "    y[0] = 1\n",
    "\n",
    "    for step in range(num_steps):\n",
    "        xE = x[step] + h * y[step]\n",
    "        yE = y[step] + h\n",
    "\n",
    "        x[step+1] = x[step] + h * 0.5 * (y[step] + yE)\n",
    "        y[step+1] = y[step] + h * 0.5\n",
    "    return x, y "
   ]
  },
  {
   "cell_type": "code",
   "execution_count": null,
   "metadata": {},
   "outputs": [],
   "source": [
    "def plot_me():\n",
    "    for n in [5,10,20,100]:\n",
    "        x,y= heun_method(n)\n",
    "        plt.plot(x,y,'r')       \n",
    "        plt.show()\n",
    "plot_me()"
   ]
  },
  {
   "cell_type": "code",
   "execution_count": null,
   "metadata": {},
   "outputs": [],
   "source": [
    "# def plot_me(benadering):\n",
    "#     for n in [5,10,20,100]:\n",
    "#         x,y = benadering(n)\n",
    "#         plt.plot(x,y,'r')\n",
    "#         plt.show()\n",
    "# plot_me(euler_method)\n",
    "# plot_me(heun_method)"
   ]
  }
 ],
 "metadata": {
  "kernelspec": {
   "display_name": "Python 2",
   "language": "python",
   "name": "python2"
  },
  "language_info": {
   "codemirror_mode": {
    "name": "ipython",
    "version": 2
   },
   "file_extension": ".py",
   "mimetype": "text/x-python",
   "name": "python",
   "nbconvert_exporter": "python",
   "pygments_lexer": "ipython2",
   "version": "2.7.15"
  }
 },
 "nbformat": 4,
 "nbformat_minor": 2
}
