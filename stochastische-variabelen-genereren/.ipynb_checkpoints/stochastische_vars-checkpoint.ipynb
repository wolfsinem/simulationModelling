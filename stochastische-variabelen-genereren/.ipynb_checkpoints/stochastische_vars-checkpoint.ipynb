{
 "cells": [
  {
   "cell_type": "markdown",
   "metadata": {},
   "source": [
    "# Stochastische variabelen genereren uit een verdeling naar keuze.\n",
    "\n",
    "### Literatuurlijst: \n",
    "    - https://people.engr.ncsu.edu/hp/files/simulation.pdf\n",
    "    - https://glowingpython.blogspot.com/2013/01/box-muller-transformation.html \n",
    "\n",
    "### Box-Muller Transform \n",
    "- u1 = [0,1] random numbers between 0 en 1\n",
    "- u2 = [0,1] random numbers between 0 en 1\n",
    "\n",
    "- z1 = (wortel(-2 * lin(u1))) * cos (2*pi*u2) \n",
    "- z2 = (wortel(-2 * lin(u1))) * sin (2*pi*u2)"
   ]
  },
  {
   "cell_type": "code",
   "execution_count": 1,
   "metadata": {},
   "outputs": [],
   "source": [
    "import matplotlib.pyplot as plt\n",
    "import numpy as np"
   ]
  },
  {
   "cell_type": "markdown",
   "metadata": {},
   "source": [
    "### Random number generator\n",
    "#### Generator wat gemaakt is in de vorige opdracht \"genereren-pseudo-random-getallen/main.py\""
   ]
  },
  {
   "cell_type": "code",
   "execution_count": 1,
   "metadata": {},
   "outputs": [],
   "source": []
  },
  {
   "cell_type": "markdown",
   "metadata": {},
   "source": [
    "### Box-Muller methode toepassen"
   ]
  },
  {
   "cell_type": "code",
   "execution_count": 5,
   "metadata": {},
   "outputs": [],
   "source": [
    "# def box_muller(u1,u2):\n",
    "#     z1 = []\n",
    "#     z2 = []\n",
    "#     u1 = pseudo_number_generator(10)\n",
    "#     u2 = pseudo_number_generator(10)\n",
    "    \n",
    "#     for i,j in zip(u1,u2):\n",
    "#         z1.append(-2 * np.log(i)) * np.cos(2 * np.pi * j)\n",
    "#         z2.append(-2 * np.log(i)) * np.sin(2 * np.pi * j)\n",
    "#         return z1,z2"
   ]
  },
  {
   "cell_type": "code",
   "execution_count": null,
   "metadata": {},
   "outputs": [],
   "source": []
  }
 ],
 "metadata": {
  "kernelspec": {
   "display_name": "Python 3.8.0 64-bit",
   "language": "python",
   "name": "python38064bit94409e1e4df94da1b5cc700cc0e6ab29"
  },
  "language_info": {
   "codemirror_mode": {
    "name": "ipython",
    "version": 3
   },
   "file_extension": ".py",
   "mimetype": "text/x-python",
   "name": "python",
   "nbconvert_exporter": "python",
   "pygments_lexer": "ipython3",
   "version": "3.8.0"
  }
 },
 "nbformat": 4,
 "nbformat_minor": 2
}
