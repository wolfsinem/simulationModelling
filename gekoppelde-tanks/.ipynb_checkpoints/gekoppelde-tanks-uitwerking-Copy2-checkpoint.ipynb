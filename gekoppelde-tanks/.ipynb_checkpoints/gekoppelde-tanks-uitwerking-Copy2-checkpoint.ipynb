{
 "cells": [
  {
   "cell_type": "markdown",
   "metadata": {},
   "source": [
    "# Gekoppelde tanks met zoutoplossing\n",
    "- Twee grote tanks met elk 100 liter vloeistof\n",
    "- De vloeistof stroomt van tank A in tank B met een snelheid van 3 L/min \n",
    "- De vloeistof stroomt van tank B in tank A met een snelheid van 1 L/min \n",
    "- Een zoutoplossing met een concentratie van 0.2 kg/L stroomt met een snelheid van 6 L/min tank A in\n",
    "- De zoutoplossing stroomt met een snelheid van 4 L/min tank A uit\n",
    "- De zoutoplossing verlaat met een snelheid van 2 L/min tank B\n"
   ]
  },
  {
   "cell_type": "code",
   "execution_count": 1,
   "metadata": {},
   "outputs": [],
   "source": [
    "import matplotlib.pyplot as plt\n",
    "import numpy as np"
   ]
  },
  {
   "cell_type": "code",
   "execution_count": 2,
   "metadata": {},
   "outputs": [],
   "source": [
    "def zout_oplossing(num_steps,uitstroom):\n",
    "    instroom = 6\n",
    "    zout_in = 0.1 \n",
    "\n",
    "    t_1 = np.zeros(1000 + 1) \n",
    "    z_1 = np.zeros(1000 + 1) \n",
    "    c_1 = np.zeros(1000 + 1)  \n",
    "    \n",
    "    t_2 = np.zeros(1000 + 1) \n",
    "    z_2 = np.zeros(1000 + 1) \n",
    "    c_2 = np.zeros(1000 + 1)\n",
    "\n",
    "    t_1[0] = 1000\n",
    "    z_1[0] = 0\n",
    "    c_1[0] = z[0] / t[0]\n",
    "    \n",
    "    t_2[0] = 1000\n",
    "    z_2[0] = 20\n",
    "    c_2[0] = z[0] / t[0]\n",
    "\n",
    "    times = [1]\n",
    "    for step in range(num_steps):\n",
    "        t[step+1] = t[step] + instroom - uitstroom\n",
    "        z[step+1] = z[step] + (instroom * zout_in) - (uitstroom * c[step])\n",
    "        c[step+1] = z[step] / t[step]\n",
    "        \n",
    "        times.append(step)\n",
    "    \n",
    "    return times, c"
   ]
  }
 ],
 "metadata": {
  "kernelspec": {
   "display_name": "Python 2",
   "language": "python",
   "name": "python2"
  },
  "language_info": {
   "codemirror_mode": {
    "name": "ipython",
    "version": 2
   },
   "file_extension": ".py",
   "mimetype": "text/x-python",
   "name": "python",
   "nbconvert_exporter": "python",
   "pygments_lexer": "ipython2",
   "version": "2.7.15"
  }
 },
 "nbformat": 4,
 "nbformat_minor": 2
}
