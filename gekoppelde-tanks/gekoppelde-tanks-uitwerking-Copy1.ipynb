{
 "cells": [
  {
   "cell_type": "markdown",
   "metadata": {},
   "source": [
    "# Gekoppelde tanks met zoutoplossing\n",
    "- Twee grote tanks met elk 100 liter vloeistof\n",
    "- De vloeistof stroomt van tank A in tank B met een snelheid van 3 L/min \n",
    "- De vloeistof stroomt van tank B in tank A met een snelheid van 1 L/min \n",
    "- Een zoutoplossing met een concentratie van 0.2 kg/L stroomt met een snelheid van 6 L/min tank A in\n",
    "- De zoutoplossing stroomt met een snelheid van 4 L/min tank A uit\n",
    "- De zoutoplossing verlaat met een snelheid van 2 L/min tank B\n"
   ]
  },
  {
   "cell_type": "code",
   "execution_count": 1,
   "metadata": {},
   "outputs": [],
   "source": [
    "import matplotlib.pyplot as plt\n",
    "import numpy as np"
   ]
  },
  {
   "cell_type": "code",
   "execution_count": 20,
   "metadata": {},
   "outputs": [],
   "source": [
    "def zout_oplossing(num_steps):\n",
    "    #tank 1\n",
    "    instroom_1 = 6\n",
    "    uitstroom_1 = 4\n",
    "\n",
    "    #tank 2\n",
    "    uitstroom_2 = 2 \n",
    "\n",
    "    een_naar_2 = 3\n",
    "    twee_naar_1 = 1 \n",
    "\n",
    "    zout_in = 0.2\n",
    "\n",
    "    t_1 = np.zeros(num_steps + 1) \n",
    "    z_1 = np.zeros(num_steps + 1) \n",
    "    c_1 = np.zeros(num_steps + 1)  \n",
    "\n",
    "    t_2 = np.zeros(num_steps + 1) \n",
    "    z_2 = np.zeros(num_steps + 1) \n",
    "    c_2 = np.zeros(num_steps + 1)\n",
    "    \n",
    "    t_1[0] = 100\n",
    "    z_1[0] = 0\n",
    "    c_1[0] = z_1[0] / t_1[0]\n",
    "    \n",
    "    t_2[0] = 100\n",
    "    z_2[0] = 20\n",
    "    c_2[0] = z_2[0] / t_2[0]\n",
    "    \n",
    "    times = [1]\n",
    "    for step in range(num_steps):\n",
    "        t_1[step+1] = t_1[step] + instroom_1 + twee_naar_1 - uitstroom_1 - een_naar_2\n",
    "        t_2[step+1] = t_2[step] + een_naar_2 - uitstroom_2 - twee_naar_1\n",
    "        \n",
    "        z_1[step+1] = z_1[step] + (instroom_1 * zout_in) - (uitstroom_1 * c_1[step])\n",
    "        z_2[step+1] = z_2[step] + (een_naar_2 * c_1[step]) - ((twee_naar_1 * c_2[step]) + (uitstroom_2 * c_2[step]))\n",
    "\n",
    "        c_1[step+1] = z_1[step] / t_1[step]\n",
    "        c_2[step+1] = z_2[step] / t_2[step]\n",
    "        \n",
    "        times.append(step)\n",
    "    \n",
    "    return times, c_1, c_2"
   ]
  },
  {
   "cell_type": "code",
   "execution_count": 21,
   "metadata": {},
   "outputs": [
    {
     "data": {
      "image/png": "[encoded data removed]",
      "text/plain": [
       "<Figure size 432x288 with 1 Axes>"
      ]
     },
     "metadata": {
      "needs_background": "light"
     },
     "output_type": "display_data"
    }
   ],
   "source": [
    "times, conc_tank_1, conc_tank_2 = zout_oplossing(300)\n",
    "\n",
    "plt.plot(times,conc_tank_1,'r',label='tank 1')\n",
    "plt.plot(times,conc_tank_2,'g',label='tank 2')\n",
    "plt.title('Zoutoplossing in een tank')\n",
    "plt.legend()\n",
    "plt.show()"
   ]
  }
 ],
 "metadata": {
  "kernelspec": {
   "display_name": "Python 2",
   "language": "python",
   "name": "python2"
  },
  "language_info": {
   "codemirror_mode": {
    "name": "ipython",
    "version": 2
   },
   "file_extension": ".py",
   "mimetype": "text/x-python",
   "name": "python",
   "nbconvert_exporter": "python",
   "pygments_lexer": "ipython2",
   "version": "2.7.15"
  }
 },
 "nbformat": 4,
 "nbformat_minor": 2
}
