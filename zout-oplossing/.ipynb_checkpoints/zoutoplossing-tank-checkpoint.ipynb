{
 "cells": [
  {
   "cell_type": "code",
   "execution_count": 1,
   "metadata": {},
   "outputs": [],
   "source": [
    "import matplotlib.pyplot as plt\n",
    "import numpy as np"
   ]
  },
  {
   "cell_type": "code",
   "execution_count": 3,
   "metadata": {},
   "outputs": [],
   "source": [
    "def zout_oplossing(num_steps,uitstroom):\n",
    "    # watertank = 1000\n",
    "    instroom = 6\n",
    "    zout_in = 0.1\n",
    "\n",
    "    tank_1 = np.zeros(num_steps + 1)\n",
    "    zout_1 = np.zeros(num_steps + 1) \n",
    "    # conc_1 = np.zeros(num_steps + 1) \n",
    "\n",
    "    tank_1[0] = 1000\n",
    "    zout_1[0] = 0\n",
    "    # conc_1[0] = zout_1[0] / tank_1[0]\n",
    "\n",
    "    times = [0]\n",
    "    waarden = [0]\n",
    "\n",
    "    for step in range(num_steps):\n",
    "        tank_1[step+1] = tank_1[step] + instroom\n",
    "        zout_1[step+1] = zout_1[step] + (instroom * zout_in)\n",
    "        # conc_1[step+1] = zout_1[step] / tank_1[step]\n",
    "        zout_conc = (zout_1[step]/tank_1[step])\n",
    "\n",
    "        tank_1[step+1] = tank_1[step] - uitstroom\n",
    "        zout_1[step+1] = zout_1[step] - (zout_conc * uitstroom)\n",
    "        # conc_1[step+1] = zout_1[step] / tank_1[step]\n",
    "        zout_conc = (zout_1[step] / tank_1)\n",
    "\n",
    "        times.append(step)\n",
    "        waarden.append(zout_conc)\n",
    "\n",
    "    return times,waarden"
   ]
  },
  {
   "cell_type": "code",
   "execution_count": 5,
   "metadata": {},
   "outputs": [
    {
     "name": "stderr",
     "output_type": "stream",
     "text": [
      "/usr/local/lib/python2.7/site-packages/ipykernel_launcher.py:26: RuntimeWarning: invalid value encountered in divide\n",
      "/usr/local/lib/python2.7/site-packages/ipykernel_launcher.py:21: RuntimeWarning: invalid value encountered in double_scalars\n"
     ]
    }
   ],
   "source": [
    "time_1, conc_1 = zout_oplossing(1000,5)\n",
    "time_2, conc_2 = zout_oplossing(1000,6)"
   ]
  }
 ],
 "metadata": {
  "kernelspec": {
   "display_name": "Python 2",
   "language": "python",
   "name": "python2"
  },
  "language_info": {
   "codemirror_mode": {
    "name": "ipython",
    "version": 2
   },
   "file_extension": ".py",
   "mimetype": "text/x-python",
   "name": "python",
   "nbconvert_exporter": "python",
   "pygments_lexer": "ipython2",
   "version": "2.7.15"
  }
 },
 "nbformat": 4,
 "nbformat_minor": 2
}
