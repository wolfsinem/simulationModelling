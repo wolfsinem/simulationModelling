{
 "cells": [
  {
   "cell_type": "markdown",
   "metadata": {},
   "source": [
    "# S(E)IR-model \n",
    "\n",
    "Het SIR-model is een eenvoudig ziektecompartimentenmodel.\n",
    "- S(t) (vatbaar; susceptible)\n",
    "- I(t) (besmettelijk; infectious)\n",
    "- R(t) (genezen; recovered)\n",
    "- ---------------------------\n",
    "- s(t) = (-(5x10^-9)/day*person) * i(t) * s(t)\n",
    "- i(t) = ((5x10^-9)/day*person) * i(t) * s(t) - (1/5days * i(t))\n",
    "- e(t) = \n",
    "- r(t) = 1/5days * i(t)"
   ]
  },
  {
   "cell_type": "code",
   "execution_count": null,
   "metadata": {},
   "outputs": [],
   "source": [
    "import numpy as np\n",
    "import matplotlib.pyplot as plt\n",
    "import warnings\n",
    "warnings.filterwarnings('ignore')"
   ]
  },
  {
   "cell_type": "code",
   "execution_count": null,
   "metadata": {},
   "outputs": [],
   "source": [
    "stnr = 1748884\n",
    "def sir_model(stnr):\n",
    "    populatie = int(str(stnr)[-2:]) * 1000000\n",
    "    contacten = int(str(stnr)[3:-2]) \n",
    "    kans_infectie = float(str(stnr)[2])/100\n",
    "    return populatie,contacten,kans_infectie\n",
    "\n",
    "populatie, contacten,kans_infectie = sir_model(stnr)"
   ]
  },
  {
   "cell_type": "code",
   "execution_count": null,
   "metadata": {},
   "outputs": [],
   "source": [
    "print(\"De grootte van de populatie wordt {}, het gemiddelde aantal contacten per dag {} en de kans op infectie {}\".format(populatie,contacten,kans_infectie))"
   ]
  },
  {
   "cell_type": "code",
   "execution_count": null,
   "metadata": {},
   "outputs": [],
   "source": [
    "h = 0.5 #days\n",
    "trans_coeff = (kans_infectie * contacten) / populatie #day person\n",
    "infectie_tijd = 5. #days \n",
    "\n",
    "end_time = 60 #days\n",
    "num_steps = int(end_time / h)\n",
    "times = h * np.array(range(num_steps + 1))"
   ]
  },
  {
   "cell_type": "code",
   "execution_count": null,
   "metadata": {},
   "outputs": [],
   "source": [
    "def seir_model(latency_time):  \n",
    "    s = np.zeros(num_steps + 1)\n",
    "    e = np.zeros(num_steps + 1)\n",
    "    i = np.zeros(num_steps + 1)\n",
    "    r = np.zeros(num_steps + 1)\n",
    "    \n",
    "    s[0] = populatie - 1e6 - 1e5 - 0 \n",
    "    e[0] = 0\n",
    "    i[0] = 1e5\n",
    "    r[0] = 1e6\n",
    "    \n",
    "    for step in range(num_steps): \n",
    "        s2e = h * trans_coeff * s[step] * i[step]\n",
    "        e2i = h / latency_time * e[step]\n",
    "        i2r = h / infectie_tijd * i[step]\n",
    "        \n",
    "        s[step+1] = s[step] - s2e\n",
    "        e[step+1] = e[step] + s2e - e2i \n",
    "        i[step+1] = i[step] + e2i - i2r\n",
    "        r[step+1] = r[step] + i2r\n",
    "        \n",
    "    return s,e,i,r "
   ]
  },
  {
   "cell_type": "code",
   "execution_count": null,
   "metadata": {},
   "outputs": [],
   "source": [
    "def plot_me():\n",
    "    ax1 = plt.subplot(211)\n",
    "    ax1.set_title('Latency time of 1 day')\n",
    "    plt.plot(times, e, label='S')\n",
    "    plt.plot(times, e, label='E')\n",
    "    plt.plot(times, i, label='I')\n",
    "    plt.plot(times, r, label='R')\n",
    "    plt.legend(loc=\"upper left\")\n",
    "    ax1.set(xlabel=\"Time in days\",ylabel=\"Infected people\")\n",
    "    \n",
    "    ax2 = plt.subplot(212)\n",
    "    ax2.set_title('Latency time of 2 days')\n",
    "    plt.plot(times, s_2, label='S')\n",
    "    plt.plot(times, e_2, label='E')\n",
    "    plt.plot(times, i_2, label='I')\n",
    "    plt.plot(times, r_2, label='R')\n",
    "    plt.legend(loc=\"upper left\")\n",
    "    ax2.set(xlabel=\"Time in days\",ylabel=\"Infected people\")\n",
    "\n",
    "    plt.tight_layout()\n",
    "    \n",
    "s,e,i,r = seir_model(1)\n",
    "s_2,e_2,i_2,r_2 = seir_model(2)\n",
    "\n",
    "plot_me()\n",
    "plt.show()"
   ]
  },
  {
   "cell_type": "markdown",
   "metadata": {},
   "source": [
    "** i en r lopen na een tijd parallel **"
   ]
  },
  {
   "cell_type": "markdown",
   "metadata": {},
   "source": [
    "### Hoeveel mensen moeten gevaccineerd worden om een epidemie te voorkomen?\n",
    "Een epidemie houdt na een tijdje vanzelf op, omdat het aantal vatbare personen te sterk afgenomen is.\n"
   ]
  },
  {
   "cell_type": "code",
   "execution_count": null,
   "metadata": {},
   "outputs": [],
   "source": [
    "vaccinatie = int(populatie - ((1/infectie_tijd) / trans_coeff))\n",
    "percentage_vaccinatie = int(100. / populatie * vaccinatie)\n",
    "print(\"Er moeten {} mensen gevaccineerd worden om een epidemie te voorkomen, dit is {}% van de gehele populatie.\".format(vaccinatie,percentage_vaccinatie))"
   ]
  }
 ],
 "metadata": {
  "file_extension": ".py",
  "kernelspec": {
   "display_name": "Python 2",
   "language": "python",
   "name": "python2"
  },
  "language_info": {
   "codemirror_mode": {
    "name": "ipython",
    "version": 2
   },
   "file_extension": ".py",
   "mimetype": "text/x-python",
   "name": "python",
   "nbconvert_exporter": "python",
   "pygments_lexer": "ipython2",
   "version": "2.7.15"
  },
  "mimetype": "text/x-python",
  "name": "python",
  "npconvert_exporter": "python",
  "pygments_lexer": "ipython3",
  "version": 3
 },
 "nbformat": 4,
 "nbformat_minor": 2
}
